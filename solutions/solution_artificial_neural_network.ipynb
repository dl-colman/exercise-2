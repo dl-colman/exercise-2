{
 "cells": [
  {
   "cell_type": "markdown",
   "metadata": {
    "colab_type": "text",
    "id": "lP6JLo1tGNBg"
   },
   "source": [
    "# Artificial Neural Network"
   ]
  },
  {
   "cell_type": "markdown",
   "metadata": {
    "colab_type": "text",
    "id": "gWZyYmS_UE_L"
   },
   "source": [
    "### Importing the libraries"
   ]
  },
  {
   "cell_type": "code",
   "execution_count": 1,
   "metadata": {
    "colab": {},
    "colab_type": "code",
    "id": "MxkJoQBkUIHC"
   },
   "outputs": [],
   "source": [
    "import numpy as np\n",
    "import pandas as pd\n",
    "import tensorflow as tf"
   ]
  },
  {
   "cell_type": "code",
   "execution_count": 2,
   "metadata": {
    "colab": {
     "base_uri": "https://localhost:8080/",
     "height": 34
    },
    "colab_type": "code",
    "id": "ZaTwK7ojXr2F",
    "outputId": "0b27a96d-d11a-43e8-ab4b-87c1f01896fe"
   },
   "outputs": [
    {
     "data": {
      "text/plain": "'2.3.0'"
     },
     "execution_count": 2,
     "metadata": {},
     "output_type": "execute_result"
    }
   ],
   "source": [
    "tf.__version__"
   ]
  },
  {
   "cell_type": "markdown",
   "metadata": {
    "colab_type": "text",
    "id": "1E0Q3aoKUCRX"
   },
   "source": [
    "## Part 1 - Data Preprocessing"
   ]
  },
  {
   "cell_type": "markdown",
   "metadata": {
    "colab_type": "text",
    "id": "cKWAkFVGUU0Z"
   },
   "source": [
    "### Importing the dataset"
   ]
  },
  {
   "cell_type": "code",
   "execution_count": 3,
   "metadata": {
    "colab": {},
    "colab_type": "code",
    "id": "MXUkhkMfU4wq"
   },
   "outputs": [],
   "source": [
    "dataset = pd.read_csv('Churn_Modelling.csv')\n",
    "X = dataset.iloc[:, 3:-1].values\n",
    "y = dataset.iloc[:, -1].values"
   ]
  },
  {
   "cell_type": "code",
   "execution_count": 4,
   "metadata": {
    "colab": {
     "base_uri": "https://localhost:8080/",
     "height": 137
    },
    "colab_type": "code",
    "id": "VYP9cQTWbzuI",
    "outputId": "797e7a64-9bac-436a-8c9c-94437e5e7587"
   },
   "outputs": [
    {
     "name": "stdout",
     "output_type": "stream",
     "text": [
      "[[619 'France' 'Female' ... 1 1 101348.88]\n",
      " [608 'Spain' 'Female' ... 0 1 112542.58]\n",
      " [502 'France' 'Female' ... 1 0 113931.57]\n",
      " ...\n",
      " [709 'France' 'Female' ... 0 1 42085.58]\n",
      " [772 'Germany' 'Male' ... 1 0 92888.52]\n",
      " [792 'France' 'Female' ... 1 0 38190.78]]\n"
     ]
    }
   ],
   "source": [
    "print(X)"
   ]
  },
  {
   "cell_type": "code",
   "execution_count": 5,
   "metadata": {
    "colab": {
     "base_uri": "https://localhost:8080/",
     "height": 34
    },
    "colab_type": "code",
    "id": "38vKGE6Nb2RR",
    "outputId": "a815e42a-e0dd-4cb5-ab97-b17ead98fbc3"
   },
   "outputs": [
    {
     "name": "stdout",
     "output_type": "stream",
     "text": [
      "[1 0 1 ... 1 1 0]\n"
     ]
    }
   ],
   "source": [
    "print(y)"
   ]
  },
  {
   "cell_type": "markdown",
   "metadata": {
    "colab_type": "text",
    "id": "N6bQ0UgSU-NJ"
   },
   "source": [
    "### Encoding categorical data"
   ]
  },
  {
   "cell_type": "markdown",
   "metadata": {
    "colab_type": "text",
    "id": "le5MJreAbW52"
   },
   "source": [
    "Label Encoding the \"Gender\" column"
   ]
  },
  {
   "cell_type": "code",
   "execution_count": 6,
   "metadata": {
    "colab": {},
    "colab_type": "code",
    "id": "PxVKWXxLbczC"
   },
   "outputs": [],
   "source": [
    "from sklearn.preprocessing import LabelEncoder\n",
    "le = LabelEncoder()\n",
    "X[:, 2] = le.fit_transform(X[:, 2])"
   ]
  },
  {
   "cell_type": "code",
   "execution_count": 7,
   "metadata": {
    "colab": {
     "base_uri": "https://localhost:8080/",
     "height": 137
    },
    "colab_type": "code",
    "id": "-M1KboxFb6OO",
    "outputId": "e2b8c7e8-0cbc-4cdf-f4eb-7f0853a00b88"
   },
   "outputs": [
    {
     "name": "stdout",
     "output_type": "stream",
     "text": [
      "[0 0 0 ... 0 1 0]\n"
     ]
    }
   ],
   "source": [
    "print(X[:, 2])"
   ]
  },
  {
   "cell_type": "markdown",
   "metadata": {
    "colab_type": "text",
    "id": "CUxGZezpbMcb"
   },
   "source": [
    "One Hot Encoding the \"Geography\" column"
   ]
  },
  {
   "cell_type": "code",
   "execution_count": 8,
   "metadata": {
    "colab": {},
    "colab_type": "code",
    "id": "AMXC8-KMVirw"
   },
   "outputs": [],
   "source": [
    "from sklearn.compose import ColumnTransformer\n",
    "from sklearn.preprocessing import OneHotEncoder\n",
    "ct = ColumnTransformer(transformers=[('encoder', OneHotEncoder(), [1])], remainder='passthrough')\n",
    "X = np.array(ct.fit_transform(X))"
   ]
  },
  {
   "cell_type": "code",
   "execution_count": 9,
   "metadata": {
    "colab": {
     "base_uri": "https://localhost:8080/",
     "height": 137
    },
    "colab_type": "code",
    "id": "ZcxwEon-b8nV",
    "outputId": "23a98af4-5e33-4b26-c27b-f06e3c5d2baf"
   },
   "outputs": [
    {
     "name": "stdout",
     "output_type": "stream",
     "text": [
      "[0.0 0.0 0.0 ... 0.0 1.0 0.0]\n"
     ]
    }
   ],
   "source": [
    "print(X[:, 1])"
   ]
  },
  {
   "cell_type": "markdown",
   "metadata": {
    "colab_type": "text",
    "id": "vHol938cW8zd"
   },
   "source": [
    "### Splitting the dataset into the Training set and Test set"
   ]
  },
  {
   "cell_type": "code",
   "execution_count": 10,
   "metadata": {
    "colab": {},
    "colab_type": "code",
    "id": "Z-TDt0Y_XEfc"
   },
   "outputs": [],
   "source": [
    "from sklearn.model_selection import train_test_split\n",
    "X_train, X_test, y_train, y_test = train_test_split(X, y, test_size = 0.2, random_state = 0)"
   ]
  },
  {
   "cell_type": "markdown",
   "metadata": {
    "colab_type": "text",
    "id": "RE_FcHyfV3TQ"
   },
   "source": [
    "### Feature Scaling"
   ]
  },
  {
   "cell_type": "code",
   "execution_count": 11,
   "metadata": {
    "colab": {},
    "colab_type": "code",
    "id": "ViCrE00rV8Sk"
   },
   "outputs": [],
   "source": [
    "from sklearn.preprocessing import StandardScaler\n",
    "sc = StandardScaler()\n",
    "X_train = sc.fit_transform(X_train)\n",
    "X_test = sc.transform(X_test)"
   ]
  },
  {
   "cell_type": "markdown",
   "metadata": {
    "colab_type": "text",
    "id": "-zfEzkRVXIwF"
   },
   "source": [
    "## Part 2 - Building the ANN"
   ]
  },
  {
   "cell_type": "markdown",
   "metadata": {
    "colab_type": "text",
    "id": "KvdeScabXtlB"
   },
   "source": [
    "### Initializing the ANN"
   ]
  },
  {
   "cell_type": "code",
   "execution_count": 12,
   "metadata": {
    "colab": {},
    "colab_type": "code",
    "id": "3dtrScHxXQox"
   },
   "outputs": [],
   "source": [
    "ann = tf.keras.models.Sequential()"
   ]
  },
  {
   "cell_type": "markdown",
   "metadata": {
    "colab_type": "text",
    "id": "rP6urV6SX7kS"
   },
   "source": [
    "### Adding the input layer and the first hidden layer"
   ]
  },
  {
   "cell_type": "code",
   "execution_count": 13,
   "metadata": {
    "colab": {},
    "colab_type": "code",
    "id": "bppGycBXYCQr"
   },
   "outputs": [],
   "source": [
    "ann.add(tf.keras.layers.Dense(units=6, activation='relu'))"
   ]
  },
  {
   "cell_type": "markdown",
   "metadata": {
    "colab_type": "text",
    "id": "BELWAc_8YJze"
   },
   "source": [
    "### Adding the second hidden layer"
   ]
  },
  {
   "cell_type": "code",
   "execution_count": 14,
   "metadata": {
    "colab": {},
    "colab_type": "code",
    "id": "JneR0u0sYRTd"
   },
   "outputs": [],
   "source": [
    "ann.add(tf.keras.layers.Dense(units=6, activation='relu'))"
   ]
  },
  {
   "cell_type": "markdown",
   "metadata": {
    "colab_type": "text",
    "id": "OyNEe6RXYcU4"
   },
   "source": [
    "### Adding the output layer"
   ]
  },
  {
   "cell_type": "code",
   "execution_count": 15,
   "metadata": {
    "colab": {},
    "colab_type": "code",
    "id": "Cn3x41RBYfvY"
   },
   "outputs": [],
   "source": [
    "ann.add(tf.keras.layers.Dense(units=1, activation='sigmoid'))"
   ]
  },
  {
   "cell_type": "markdown",
   "metadata": {
    "colab_type": "text",
    "id": "JT4u2S1_Y4WG"
   },
   "source": [
    "## Part 3 - Training the ANN"
   ]
  },
  {
   "cell_type": "markdown",
   "metadata": {
    "colab_type": "text",
    "id": "8GWlJChhY_ZI"
   },
   "source": [
    "### Compiling the ANN"
   ]
  },
  {
   "cell_type": "code",
   "execution_count": 16,
   "metadata": {
    "colab": {},
    "colab_type": "code",
    "id": "fG3RrwDXZEaS"
   },
   "outputs": [],
   "source": [
    "ann.compile(optimizer = 'adam', loss = 'binary_crossentropy', metrics = ['accuracy'])"
   ]
  },
  {
   "cell_type": "markdown",
   "metadata": {
    "colab_type": "text",
    "id": "0QR_G5u7ZLSM"
   },
   "source": [
    "### Training the ANN on the Training set"
   ]
  },
  {
   "cell_type": "code",
   "execution_count": 17,
   "metadata": {
    "colab": {
     "base_uri": "https://localhost:8080/",
     "height": 1000
    },
    "colab_type": "code",
    "id": "nHZ-LKv_ZRb3",
    "outputId": "718cc4b0-b5aa-40f0-9b20-d3d31730a531"
   },
   "outputs": [
    {
     "name": "stdout",
     "output_type": "stream",
     "text": [
      "Epoch 1/100\n",
      "225/225 [==============================] - 0s 2ms/step - loss: 0.5372 - accuracy: 0.7503 - val_loss: 0.4768 - val_accuracy: 0.7962\n",
      "Epoch 2/100\n",
      "225/225 [==============================] - 0s 1ms/step - loss: 0.4686 - accuracy: 0.7953 - val_loss: 0.4569 - val_accuracy: 0.7950\n",
      "Epoch 3/100\n",
      "225/225 [==============================] - 0s 1ms/step - loss: 0.4552 - accuracy: 0.7961 - val_loss: 0.4453 - val_accuracy: 0.7950\n",
      "Epoch 4/100\n",
      "225/225 [==============================] - 0s 1ms/step - loss: 0.4467 - accuracy: 0.7960 - val_loss: 0.4374 - val_accuracy: 0.7950\n",
      "Epoch 5/100\n",
      "225/225 [==============================] - 0s 997us/step - loss: 0.4402 - accuracy: 0.7961 - val_loss: 0.4310 - val_accuracy: 0.7950\n",
      "Epoch 6/100\n",
      "225/225 [==============================] - 0s 1ms/step - loss: 0.4346 - accuracy: 0.7961 - val_loss: 0.4238 - val_accuracy: 0.7950\n",
      "Epoch 7/100\n",
      "225/225 [==============================] - 0s 1ms/step - loss: 0.4293 - accuracy: 0.7957 - val_loss: 0.4178 - val_accuracy: 0.7950\n",
      "Epoch 8/100\n",
      "225/225 [==============================] - 0s 944us/step - loss: 0.4228 - accuracy: 0.8007 - val_loss: 0.4090 - val_accuracy: 0.7987\n",
      "Epoch 9/100\n",
      "225/225 [==============================] - 0s 953us/step - loss: 0.4149 - accuracy: 0.8064 - val_loss: 0.3991 - val_accuracy: 0.8025\n",
      "Epoch 10/100\n",
      "225/225 [==============================] - 0s 896us/step - loss: 0.4052 - accuracy: 0.8110 - val_loss: 0.3897 - val_accuracy: 0.8125\n",
      "Epoch 11/100\n",
      "225/225 [==============================] - 0s 931us/step - loss: 0.3966 - accuracy: 0.8196 - val_loss: 0.3841 - val_accuracy: 0.8188\n",
      "Epoch 12/100\n",
      "225/225 [==============================] - 0s 949us/step - loss: 0.3891 - accuracy: 0.8260 - val_loss: 0.3749 - val_accuracy: 0.8213\n",
      "Epoch 13/100\n",
      "225/225 [==============================] - 0s 1ms/step - loss: 0.3827 - accuracy: 0.8297 - val_loss: 0.3701 - val_accuracy: 0.8350\n",
      "Epoch 14/100\n",
      "225/225 [==============================] - 0s 1ms/step - loss: 0.3769 - accuracy: 0.8368 - val_loss: 0.3647 - val_accuracy: 0.8450\n",
      "Epoch 15/100\n",
      "225/225 [==============================] - 0s 1ms/step - loss: 0.3721 - accuracy: 0.8399 - val_loss: 0.3613 - val_accuracy: 0.8500\n",
      "Epoch 16/100\n",
      "225/225 [==============================] - 0s 962us/step - loss: 0.3682 - accuracy: 0.8446 - val_loss: 0.3587 - val_accuracy: 0.8475\n",
      "Epoch 17/100\n",
      "225/225 [==============================] - 0s 958us/step - loss: 0.3647 - accuracy: 0.8475 - val_loss: 0.3551 - val_accuracy: 0.8550\n",
      "Epoch 18/100\n",
      "225/225 [==============================] - 0s 891us/step - loss: 0.3627 - accuracy: 0.8474 - val_loss: 0.3530 - val_accuracy: 0.8562\n",
      "Epoch 19/100\n",
      "225/225 [==============================] - 0s 918us/step - loss: 0.3609 - accuracy: 0.8493 - val_loss: 0.3506 - val_accuracy: 0.8612\n",
      "Epoch 20/100\n",
      "225/225 [==============================] - 0s 872us/step - loss: 0.3593 - accuracy: 0.8514 - val_loss: 0.3498 - val_accuracy: 0.8575\n",
      "Epoch 21/100\n",
      "225/225 [==============================] - 0s 882us/step - loss: 0.3578 - accuracy: 0.8521 - val_loss: 0.3471 - val_accuracy: 0.8575\n",
      "Epoch 22/100\n",
      "225/225 [==============================] - 0s 976us/step - loss: 0.3568 - accuracy: 0.8532 - val_loss: 0.3467 - val_accuracy: 0.8550\n",
      "Epoch 23/100\n",
      "225/225 [==============================] - 0s 926us/step - loss: 0.3552 - accuracy: 0.8535 - val_loss: 0.3476 - val_accuracy: 0.8575\n",
      "Epoch 24/100\n",
      "225/225 [==============================] - 0s 1ms/step - loss: 0.3548 - accuracy: 0.8537 - val_loss: 0.3444 - val_accuracy: 0.8550\n",
      "Epoch 25/100\n",
      "225/225 [==============================] - 0s 904us/step - loss: 0.3530 - accuracy: 0.8565 - val_loss: 0.3434 - val_accuracy: 0.8587\n",
      "Epoch 26/100\n",
      "225/225 [==============================] - 0s 1ms/step - loss: 0.3522 - accuracy: 0.8551 - val_loss: 0.3429 - val_accuracy: 0.8625\n",
      "Epoch 27/100\n",
      "225/225 [==============================] - 0s 1ms/step - loss: 0.3507 - accuracy: 0.8581 - val_loss: 0.3443 - val_accuracy: 0.8550\n",
      "Epoch 28/100\n",
      "225/225 [==============================] - 0s 1ms/step - loss: 0.3506 - accuracy: 0.8578 - val_loss: 0.3414 - val_accuracy: 0.8625\n",
      "Epoch 29/100\n",
      "225/225 [==============================] - 0s 878us/step - loss: 0.3498 - accuracy: 0.8569 - val_loss: 0.3418 - val_accuracy: 0.8587\n",
      "Epoch 30/100\n",
      "225/225 [==============================] - 0s 1ms/step - loss: 0.3495 - accuracy: 0.8576 - val_loss: 0.3407 - val_accuracy: 0.8587\n",
      "Epoch 31/100\n",
      "225/225 [==============================] - 0s 946us/step - loss: 0.3483 - accuracy: 0.8589 - val_loss: 0.3405 - val_accuracy: 0.8550\n",
      "Epoch 32/100\n",
      "225/225 [==============================] - 0s 933us/step - loss: 0.3480 - accuracy: 0.8587 - val_loss: 0.3391 - val_accuracy: 0.8612\n",
      "Epoch 33/100\n",
      "225/225 [==============================] - 0s 868us/step - loss: 0.3476 - accuracy: 0.8596 - val_loss: 0.3381 - val_accuracy: 0.8600\n",
      "Epoch 34/100\n",
      "225/225 [==============================] - 0s 827us/step - loss: 0.3472 - accuracy: 0.8579 - val_loss: 0.3390 - val_accuracy: 0.8662\n",
      "Epoch 35/100\n",
      "225/225 [==============================] - 0s 898us/step - loss: 0.3465 - accuracy: 0.8558 - val_loss: 0.3374 - val_accuracy: 0.8575\n",
      "Epoch 36/100\n",
      "225/225 [==============================] - 0s 899us/step - loss: 0.3457 - accuracy: 0.8597 - val_loss: 0.3396 - val_accuracy: 0.8562\n",
      "Epoch 37/100\n",
      "225/225 [==============================] - 0s 938us/step - loss: 0.3459 - accuracy: 0.8574 - val_loss: 0.3372 - val_accuracy: 0.8612\n",
      "Epoch 38/100\n",
      "225/225 [==============================] - 0s 953us/step - loss: 0.3450 - accuracy: 0.8579 - val_loss: 0.3387 - val_accuracy: 0.8587\n",
      "Epoch 39/100\n",
      "225/225 [==============================] - 0s 975us/step - loss: 0.3448 - accuracy: 0.8603 - val_loss: 0.3389 - val_accuracy: 0.8650\n",
      "Epoch 40/100\n",
      "225/225 [==============================] - 0s 944us/step - loss: 0.3446 - accuracy: 0.8581 - val_loss: 0.3350 - val_accuracy: 0.8687\n",
      "Epoch 41/100\n",
      "225/225 [==============================] - 0s 1ms/step - loss: 0.3446 - accuracy: 0.8590 - val_loss: 0.3355 - val_accuracy: 0.8712\n",
      "Epoch 42/100\n",
      "225/225 [==============================] - 0s 1ms/step - loss: 0.3439 - accuracy: 0.8596 - val_loss: 0.3375 - val_accuracy: 0.8587\n",
      "Epoch 43/100\n",
      "225/225 [==============================] - 0s 997us/step - loss: 0.3437 - accuracy: 0.8590 - val_loss: 0.3364 - val_accuracy: 0.8587\n",
      "Epoch 44/100\n",
      "225/225 [==============================] - 0s 993us/step - loss: 0.3436 - accuracy: 0.8590 - val_loss: 0.3362 - val_accuracy: 0.8587\n",
      "Epoch 45/100\n",
      "225/225 [==============================] - 0s 971us/step - loss: 0.3433 - accuracy: 0.8581 - val_loss: 0.3350 - val_accuracy: 0.8687\n",
      "Epoch 46/100\n",
      "225/225 [==============================] - 0s 1ms/step - loss: 0.3431 - accuracy: 0.8592 - val_loss: 0.3352 - val_accuracy: 0.8637\n",
      "Epoch 47/100\n",
      "225/225 [==============================] - 0s 1ms/step - loss: 0.3426 - accuracy: 0.8599 - val_loss: 0.3379 - val_accuracy: 0.8600\n",
      "Epoch 48/100\n",
      "225/225 [==============================] - 0s 931us/step - loss: 0.3428 - accuracy: 0.8604 - val_loss: 0.3351 - val_accuracy: 0.8612\n",
      "Epoch 49/100\n",
      "225/225 [==============================] - 0s 993us/step - loss: 0.3421 - accuracy: 0.8594 - val_loss: 0.3332 - val_accuracy: 0.8675\n",
      "Epoch 50/100\n",
      "225/225 [==============================] - 0s 984us/step - loss: 0.3419 - accuracy: 0.8603 - val_loss: 0.3342 - val_accuracy: 0.8612\n",
      "Epoch 51/100\n",
      "225/225 [==============================] - 0s 1ms/step - loss: 0.3422 - accuracy: 0.8606 - val_loss: 0.3339 - val_accuracy: 0.8650\n",
      "Epoch 52/100\n",
      "225/225 [==============================] - 0s 1ms/step - loss: 0.3422 - accuracy: 0.8603 - val_loss: 0.3339 - val_accuracy: 0.8612\n",
      "Epoch 53/100\n",
      "225/225 [==============================] - 0s 1ms/step - loss: 0.3414 - accuracy: 0.8597 - val_loss: 0.3360 - val_accuracy: 0.8600\n",
      "Epoch 54/100\n",
      "225/225 [==============================] - 0s 1ms/step - loss: 0.3415 - accuracy: 0.8603 - val_loss: 0.3329 - val_accuracy: 0.8612\n",
      "Epoch 55/100\n",
      "225/225 [==============================] - 0s 997us/step - loss: 0.3414 - accuracy: 0.8592 - val_loss: 0.3348 - val_accuracy: 0.8650\n",
      "Epoch 56/100\n",
      "225/225 [==============================] - 0s 984us/step - loss: 0.3411 - accuracy: 0.8615 - val_loss: 0.3344 - val_accuracy: 0.8600\n",
      "Epoch 57/100\n",
      "225/225 [==============================] - 0s 1ms/step - loss: 0.3412 - accuracy: 0.8618 - val_loss: 0.3341 - val_accuracy: 0.8650\n",
      "Epoch 58/100\n",
      "225/225 [==============================] - 0s 975us/step - loss: 0.3414 - accuracy: 0.8589 - val_loss: 0.3339 - val_accuracy: 0.8600\n",
      "Epoch 59/100\n",
      "225/225 [==============================] - 0s 984us/step - loss: 0.3412 - accuracy: 0.8581 - val_loss: 0.3319 - val_accuracy: 0.8600\n",
      "Epoch 60/100\n",
      "225/225 [==============================] - 0s 1ms/step - loss: 0.3407 - accuracy: 0.8585 - val_loss: 0.3318 - val_accuracy: 0.8687\n",
      "Epoch 61/100\n",
      "225/225 [==============================] - 0s 1ms/step - loss: 0.3403 - accuracy: 0.8601 - val_loss: 0.3337 - val_accuracy: 0.8650\n",
      "Epoch 62/100\n",
      "225/225 [==============================] - 0s 1ms/step - loss: 0.3407 - accuracy: 0.8594 - val_loss: 0.3341 - val_accuracy: 0.8587\n",
      "Epoch 63/100\n",
      "225/225 [==============================] - 0s 918us/step - loss: 0.3406 - accuracy: 0.8608 - val_loss: 0.3328 - val_accuracy: 0.8625\n",
      "Epoch 64/100\n",
      "225/225 [==============================] - 0s 931us/step - loss: 0.3399 - accuracy: 0.8586 - val_loss: 0.3348 - val_accuracy: 0.8575\n",
      "Epoch 65/100\n",
      "225/225 [==============================] - 0s 984us/step - loss: 0.3397 - accuracy: 0.8618 - val_loss: 0.3311 - val_accuracy: 0.8600\n",
      "Epoch 66/100\n",
      "225/225 [==============================] - 0s 1ms/step - loss: 0.3404 - accuracy: 0.8587 - val_loss: 0.3338 - val_accuracy: 0.8600\n",
      "Epoch 67/100\n",
      "225/225 [==============================] - 0s 1ms/step - loss: 0.3399 - accuracy: 0.8612 - val_loss: 0.3325 - val_accuracy: 0.8650\n",
      "Epoch 68/100\n",
      "225/225 [==============================] - 0s 1ms/step - loss: 0.3402 - accuracy: 0.8611 - val_loss: 0.3333 - val_accuracy: 0.8625\n",
      "Epoch 69/100\n",
      "225/225 [==============================] - 0s 962us/step - loss: 0.3396 - accuracy: 0.8600 - val_loss: 0.3354 - val_accuracy: 0.8612\n",
      "Epoch 70/100\n",
      "225/225 [==============================] - 0s 943us/step - loss: 0.3397 - accuracy: 0.8606 - val_loss: 0.3342 - val_accuracy: 0.8637\n",
      "Epoch 71/100\n",
      "225/225 [==============================] - 0s 1ms/step - loss: 0.3398 - accuracy: 0.8608 - val_loss: 0.3332 - val_accuracy: 0.8637\n",
      "Epoch 72/100\n",
      "225/225 [==============================] - 0s 953us/step - loss: 0.3395 - accuracy: 0.8597 - val_loss: 0.3327 - val_accuracy: 0.8637\n",
      "Epoch 73/100\n",
      "225/225 [==============================] - 0s 984us/step - loss: 0.3395 - accuracy: 0.8601 - val_loss: 0.3335 - val_accuracy: 0.8637\n",
      "Epoch 74/100\n",
      "225/225 [==============================] - 0s 1ms/step - loss: 0.3396 - accuracy: 0.8599 - val_loss: 0.3333 - val_accuracy: 0.8587\n",
      "Epoch 75/100\n",
      "225/225 [==============================] - 0s 922us/step - loss: 0.3392 - accuracy: 0.8612 - val_loss: 0.3339 - val_accuracy: 0.8575\n",
      "Epoch 76/100\n",
      "225/225 [==============================] - 0s 1ms/step - loss: 0.3399 - accuracy: 0.8607 - val_loss: 0.3344 - val_accuracy: 0.8587\n",
      "Epoch 77/100\n",
      "225/225 [==============================] - 0s 1ms/step - loss: 0.3395 - accuracy: 0.8612 - val_loss: 0.3333 - val_accuracy: 0.8587\n",
      "Epoch 78/100\n",
      "225/225 [==============================] - 0s 1ms/step - loss: 0.3390 - accuracy: 0.8610 - val_loss: 0.3327 - val_accuracy: 0.8650\n",
      "Epoch 79/100\n",
      "225/225 [==============================] - 0s 888us/step - loss: 0.3392 - accuracy: 0.8590 - val_loss: 0.3322 - val_accuracy: 0.8662\n",
      "Epoch 80/100\n",
      "225/225 [==============================] - 0s 974us/step - loss: 0.3389 - accuracy: 0.8619 - val_loss: 0.3318 - val_accuracy: 0.8612\n",
      "Epoch 81/100\n",
      "225/225 [==============================] - 0s 1ms/step - loss: 0.3389 - accuracy: 0.8619 - val_loss: 0.3324 - val_accuracy: 0.8612\n",
      "Epoch 82/100\n",
      "225/225 [==============================] - 0s 909us/step - loss: 0.3395 - accuracy: 0.8611 - val_loss: 0.3326 - val_accuracy: 0.8612\n",
      "Epoch 83/100\n",
      "225/225 [==============================] - 0s 958us/step - loss: 0.3392 - accuracy: 0.8608 - val_loss: 0.3306 - val_accuracy: 0.8612\n",
      "Epoch 84/100\n",
      "225/225 [==============================] - 0s 913us/step - loss: 0.3390 - accuracy: 0.8611 - val_loss: 0.3328 - val_accuracy: 0.8587\n",
      "Epoch 85/100\n",
      "225/225 [==============================] - 0s 887us/step - loss: 0.3391 - accuracy: 0.8625 - val_loss: 0.3313 - val_accuracy: 0.8612\n",
      "Epoch 86/100\n",
      "225/225 [==============================] - 0s 934us/step - loss: 0.3386 - accuracy: 0.8614 - val_loss: 0.3332 - val_accuracy: 0.8575\n",
      "Epoch 87/100\n",
      "225/225 [==============================] - 0s 917us/step - loss: 0.3387 - accuracy: 0.8594 - val_loss: 0.3343 - val_accuracy: 0.8625\n",
      "Epoch 88/100\n",
      "225/225 [==============================] - 0s 849us/step - loss: 0.3385 - accuracy: 0.8615 - val_loss: 0.3350 - val_accuracy: 0.8637\n",
      "Epoch 89/100\n",
      "225/225 [==============================] - 0s 859us/step - loss: 0.3388 - accuracy: 0.8614 - val_loss: 0.3341 - val_accuracy: 0.8575\n",
      "Epoch 90/100\n",
      "225/225 [==============================] - 0s 855us/step - loss: 0.3388 - accuracy: 0.8624 - val_loss: 0.3324 - val_accuracy: 0.8600\n",
      "Epoch 91/100\n",
      "225/225 [==============================] - 0s 962us/step - loss: 0.3384 - accuracy: 0.8614 - val_loss: 0.3330 - val_accuracy: 0.8600\n",
      "Epoch 92/100\n",
      "225/225 [==============================] - 0s 940us/step - loss: 0.3388 - accuracy: 0.8612 - val_loss: 0.3304 - val_accuracy: 0.8625\n",
      "Epoch 93/100\n",
      "225/225 [==============================] - 0s 966us/step - loss: 0.3387 - accuracy: 0.8608 - val_loss: 0.3299 - val_accuracy: 0.8687\n",
      "Epoch 94/100\n",
      "225/225 [==============================] - 0s 922us/step - loss: 0.3381 - accuracy: 0.8608 - val_loss: 0.3313 - val_accuracy: 0.8637\n",
      "Epoch 95/100\n",
      "225/225 [==============================] - 0s 980us/step - loss: 0.3385 - accuracy: 0.8619 - val_loss: 0.3321 - val_accuracy: 0.8625\n",
      "Epoch 96/100\n",
      "225/225 [==============================] - 0s 1ms/step - loss: 0.3383 - accuracy: 0.8636 - val_loss: 0.3302 - val_accuracy: 0.8637\n",
      "Epoch 97/100\n",
      "225/225 [==============================] - 0s 953us/step - loss: 0.3379 - accuracy: 0.8633 - val_loss: 0.3298 - val_accuracy: 0.8637\n",
      "Epoch 98/100\n",
      "225/225 [==============================] - 0s 944us/step - loss: 0.3379 - accuracy: 0.8625 - val_loss: 0.3330 - val_accuracy: 0.8587\n",
      "Epoch 99/100\n",
      "225/225 [==============================] - 0s 1ms/step - loss: 0.3374 - accuracy: 0.8635 - val_loss: 0.3311 - val_accuracy: 0.8637\n",
      "Epoch 100/100\n",
      "225/225 [==============================] - 0s 1ms/step - loss: 0.3382 - accuracy: 0.8628 - val_loss: 0.3305 - val_accuracy: 0.8637\n"
     ]
    }
   ],
   "source": [
    "history = ann.fit(X_train, y_train, validation_split = 0.1, batch_size = 32, epochs = 100)"
   ]
  },
  {
   "cell_type": "markdown",
   "source": [
    "# Visualization of the Loss of training"
   ],
   "metadata": {
    "collapsed": false,
    "pycharm": {
     "name": "#%% md\n"
    }
   }
  },
  {
   "cell_type": "code",
   "execution_count": 25,
   "outputs": [
    {
     "data": {
      "text/plain": "[<matplotlib.lines.Line2D at 0x1e36804db80>]"
     },
     "execution_count": 25,
     "metadata": {},
     "output_type": "execute_result"
    },
    {
     "data": {
      "text/plain": "<Figure size 432x288 with 1 Axes>",
      "image/png": "[encoded data removed]"
     },
     "metadata": {
      "needs_background": "light"
     },
     "output_type": "display_data"
    }
   ],
   "source": [
    "import matplotlib.pyplot as plt\n",
    "plt.xlabel('Epoch Number')\n",
    "plt.ylabel(\"Loss\")\n",
    "plt.plot(history.history['loss'])"
   ],
   "metadata": {
    "collapsed": false,
    "pycharm": {
     "name": "#%%\n"
    }
   }
  },
  {
   "cell_type": "markdown",
   "source": [
    "# Visualization of the Accuracy of training"
   ],
   "metadata": {
    "collapsed": false,
    "pycharm": {
     "name": "#%% md\n"
    }
   }
  },
  {
   "cell_type": "code",
   "execution_count": 19,
   "metadata": {},
   "outputs": [
    {
     "data": {
      "text/plain": "[<matplotlib.lines.Line2D at 0x1e367e8c3d0>]"
     },
     "execution_count": 19,
     "metadata": {},
     "output_type": "execute_result"
    },
    {
     "data": {
      "text/plain": "<Figure size 432x288 with 1 Axes>",
      "image/png": "[encoded data removed]"
     },
     "metadata": {
      "needs_background": "light"
     },
     "output_type": "display_data"
    }
   ],
   "source": [
    "plt.xlabel('Epoch Number')\n",
    "plt.ylabel(\"Accuracy Magnitude\")\n",
    "plt.plot(history.history['accuracy'])"
   ]
  },
  {
   "cell_type": "markdown",
   "source": [
    "# Visualization of the Loss of validation VS loss of training"
   ],
   "metadata": {
    "collapsed": false,
    "pycharm": {
     "name": "#%% md\n"
    }
   }
  },
  {
   "cell_type": "code",
   "execution_count": 26,
   "outputs": [
    {
     "data": {
      "text/plain": "<Figure size 432x288 with 1 Axes>",
      "image/png": "[encoded data removed]"
     },
     "metadata": {
      "needs_background": "light"
     },
     "output_type": "display_data"
    }
   ],
   "source": [
    "plt.plot(history.history['loss'])\n",
    "plt.plot(history.history['val_loss'])\n",
    "plt.title('model loss')\n",
    "plt.ylabel('loss')\n",
    "plt.xlabel('epoch')\n",
    "plt.legend(['train', 'val'], loc='upper left')\n",
    "plt.show()"
   ],
   "metadata": {
    "collapsed": false,
    "pycharm": {
     "name": "#%%\n"
    }
   }
  },
  {
   "cell_type": "markdown",
   "source": [
    "# Visualization of the Accuracy of validation VS Accuracy of training"
   ],
   "metadata": {
    "collapsed": false,
    "pycharm": {
     "name": "#%% md\n"
    }
   }
  },
  {
   "cell_type": "code",
   "execution_count": 28,
   "outputs": [
    {
     "data": {
      "text/plain": "<Figure size 432x288 with 1 Axes>",
      "image/png": "[encoded data removed]"
     },
     "metadata": {
      "needs_background": "light"
     },
     "output_type": "display_data"
    }
   ],
   "source": [
    "plt.plot(history.history['accuracy'])\n",
    "plt.plot(history.history['val_accuracy'])\n",
    "plt.title('model accuracy')\n",
    "plt.ylabel('accuracy')\n",
    "plt.xlabel('epoch')\n",
    "plt.legend(['train', 'val'], loc='upper left')\n",
    "plt.show()"
   ],
   "metadata": {
    "collapsed": false,
    "pycharm": {
     "name": "#%%\n"
    }
   }
  },
  {
   "cell_type": "markdown",
   "metadata": {
    "colab_type": "text",
    "id": "tJj5k2MxZga3"
   },
   "source": [
    "## Part 4 - Making the predictions and evaluating the model"
   ]
  },
  {
   "cell_type": "markdown",
   "source": [
    "### Predicting the Test set results"
   ],
   "metadata": {
    "collapsed": false,
    "pycharm": {
     "name": "#%% md\n"
    }
   }
  },
  {
   "cell_type": "code",
   "execution_count": 23,
   "outputs": [
    {
     "name": "stdout",
     "output_type": "stream",
     "text": [
      "[[0 0]\n",
      " [0 1]\n",
      " [0 0]\n",
      " ...\n",
      " [0 0]\n",
      " [0 0]\n",
      " [0 0]]\n"
     ]
    }
   ],
   "source": [
    "y_pred = ann.predict(X_test)\n",
    "y_pred = (y_pred > 0.5)\n",
    "print(np.concatenate((y_pred.reshape(len(y_pred),1), y_test.reshape(len(y_test),1)),1))"
   ],
   "metadata": {
    "collapsed": false,
    "pycharm": {
     "name": "#%%\n"
    }
   }
  },
  {
   "cell_type": "markdown",
   "source": [
    "### Making the Confusion Matrix"
   ],
   "metadata": {
    "collapsed": false,
    "pycharm": {
     "name": "#%% md\n"
    }
   }
  },
  {
   "cell_type": "code",
   "execution_count": 24,
   "outputs": [
    {
     "name": "stdout",
     "output_type": "stream",
     "text": [
      "[[1513   82]\n",
      " [ 194  211]]\n"
     ]
    },
    {
     "data": {
      "text/plain": "0.862"
     },
     "execution_count": 24,
     "metadata": {},
     "output_type": "execute_result"
    }
   ],
   "source": [
    "from sklearn.metrics import confusion_matrix, accuracy_score\n",
    "cm = confusion_matrix(y_test, y_pred)\n",
    "print(cm)\n",
    "accuracy_score(y_test, y_pred)"
   ],
   "metadata": {
    "collapsed": false,
    "pycharm": {
     "name": "#%%\n"
    }
   }
  },
  {
   "cell_type": "markdown",
   "source": [
    "### Predicting the result of a single observation"
   ],
   "metadata": {
    "collapsed": false
   }
  },
  {
   "cell_type": "markdown",
   "source": [
    "**Solution**"
   ],
   "metadata": {
    "collapsed": false
   }
  },
  {
   "cell_type": "markdown",
   "source": [
    "**Homework**\n",
    "\n",
    "Use our ANN model to predict if the customer with the following informations will leave the bank:\n",
    "\n",
    "Geography: France\n",
    "\n",
    "Credit Score: 600\n",
    "\n",
    "Gender: Male\n",
    "\n",
    "Age: 40 years old\n",
    "\n",
    "Tenure: 3 years\n",
    "\n",
    "Balance: \\$ 60000\n",
    "\n",
    "Number of Products: 2\n",
    "\n",
    "Does this customer have a credit card ? Yes\n",
    "\n",
    "Is this customer an Active Member: Yes\n",
    "\n",
    "Estimated Salary: \\$ 50000\n",
    "\n",
    "So, should we say goodbye to that customer ?"
   ],
   "metadata": {
    "collapsed": false
   }
  },
  {
   "cell_type": "code",
   "execution_count": 20,
   "outputs": [],
   "source": [
    "def single_predictor(single_features):\n",
    "    features_list = []\n",
    "    for sublist in single_features.values():\n",
    "        if type(sublist) == list:\n",
    "            for item in sublist:\n",
    "                features_list.append(item)\n",
    "        else:\n",
    "            features_list.append(sublist)\n",
    "    transform_features = sc.transform([features_list])\n",
    "    my_prediction = ann.predict(transform_features)\n",
    "    print(my_prediction > 0.5)"
   ],
   "metadata": {
    "collapsed": false,
    "pycharm": {
     "name": "#%%\n"
    }
   }
  },
  {
   "cell_type": "code",
   "execution_count": 21,
   "outputs": [],
   "source": [
    "single_featurs = {\n",
    "    'Geography': [1, 0, 0] ,\n",
    "    'Credit Score': 600,\n",
    "    'Gender': 1,\n",
    "    'Age': 40,\n",
    "    'Tenure': 3,\n",
    "    'Balance': 60000,\n",
    "    'Number of Products': 2,\n",
    "    'Credit Card': 1,\n",
    "    'Active Member': 1,\n",
    "    'Salary': 50000,\n",
    "}"
   ],
   "metadata": {
    "collapsed": false,
    "pycharm": {
     "name": "#%%\n"
    }
   }
  },
  {
   "cell_type": "code",
   "execution_count": 22,
   "outputs": [
    {
     "name": "stdout",
     "output_type": "stream",
     "text": [
      "[[False]]\n"
     ]
    }
   ],
   "source": [
    "# print(ann.predict(sc.transform([[1, 0, 0, 600, 1, 40, 3, 60000, 2, 1, 1, 50000]])) > 0.5)\n",
    "single_predictor(single_featurs)"
   ],
   "metadata": {
    "collapsed": false,
    "pycharm": {
     "name": "#%%\n"
    }
   }
  }
 ],
 "metadata": {
  "colab": {
   "collapsed_sections": [],
   "name": "artificial_neural_network.ipynb",
   "provenance": [],
   "toc_visible": true
  },
  "kernelspec": {
   "display_name": "Python 3 (ipykernel)",
   "language": "python",
   "name": "python3"
  },
  "language_info": {
   "codemirror_mode": {
    "name": "ipython",
    "version": 3
   },
   "file_extension": ".py",
   "mimetype": "text/x-python",
   "name": "python",
   "nbconvert_exporter": "python",
   "pygments_lexer": "ipython3",
   "version": "3.8.10"
  }
 },
 "nbformat": 4,
 "nbformat_minor": 1
}